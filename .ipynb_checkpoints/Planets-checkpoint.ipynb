{
 "cells": [
  {
   "cell_type": "markdown",
   "metadata": {},
   "source": [
    "Code illustration: 8.07 Gravity Simulation   \n",
    "Tkinter GUI Application Development Blueprints"
   ]
  },
  {
   "cell_type": "code",
   "execution_count": 2,
   "metadata": {},
   "outputs": [],
   "source": [
    "import math\n",
    "import tkinter as tk"
   ]
  },
  {
   "cell_type": "code",
   "execution_count": 3,
   "metadata": {},
   "outputs": [],
   "source": [
    "w = 700\n",
    "h = 700\n",
    "\n",
    "root = tk.Tk()\n",
    "root.geometry('{}x{}'.format(w, h))\n",
    "canvas = tk.Canvas(root, height=h, width=w, bg='black')\n",
    "canvas.pack()\n",
    "root.update_idletasks()"
   ]
  },
  {
   "cell_type": "code",
   "execution_count": 4,
   "metadata": {},
   "outputs": [],
   "source": [
    "class Planet:\n",
    "  sun_mass = 1.989 * math.pow(10, 30)\n",
    "  G = 6.67 * math.pow(10, -11)\n",
    "\n",
    "  def __init__(self, name, mass, distance, radius, color, canvas):\n",
    "    self.name = name\n",
    "    self.mass = mass * 5.973e24\n",
    "    self.distance = distance * 1.49e11\n",
    "    self.radius = radius * 6378\n",
    "    self.canvas = canvas\n",
    "    self.color = color\n",
    "    self.angular_velocity = -math.sqrt(self.gravitational_force() /\n",
    "                                      (self.mass * self.distance))\n",
    "    self.oval_id = self.draw_initial_planet()\n",
    "    self.scaled_radius = self.radius_scaler(self.radius)\n",
    "    self.scaled_distance = self.distance_scaler(self.distance)\n",
    "\n",
    "  def distance_scaler(self, value):\n",
    "    #[57.91, 4497.1] scaled to [0, self.canvas.winfo_width()/2]\n",
    "    return (self.canvas.winfo_width() / 2 - 1) * (value - 1e10) / (\n",
    "        2.27e11 - 1e10) + 1\n",
    "\n",
    "  def radius_scaler(self, value):\n",
    "    #[2439, 6051.8] scaled to [0, self.canvas.winfo_width()/2]\n",
    "    return (16 * (value - 2439) / (6052 - 2439)) + 2\n",
    "\n",
    "  def draw_initial_planet(self):\n",
    "    screen_dim = self.canvas.winfo_width()\n",
    "    scaled_distance = self.distance_scaler(self.distance)\n",
    "    scaled_radius = self.radius_scaler(self.radius)\n",
    "    y = screen_dim / 2\n",
    "    x = screen_dim / 2 + scaled_distance\n",
    "    oval_id = self.canvas.create_oval(\n",
    "        x - scaled_radius,\n",
    "        y - scaled_radius,\n",
    "        x + scaled_radius,\n",
    "        y + scaled_radius,\n",
    "        fill=self.color,\n",
    "        outline=self.color)\n",
    "    return oval_id\n",
    "\n",
    "  def gravitational_force(self):\n",
    "    f = self.G * (self.mass * self.sun_mass) / math.pow(self.distance, 2)\n",
    "    return f\n",
    "\n",
    "  def angular_position(self, t):\n",
    "    theta = (0 + self.angular_velocity * t)\n",
    "    return theta\n",
    "\n",
    "  def coordinates(self, theta):\n",
    "    screen_dim = self.canvas.winfo_width()\n",
    "    y = self.scaled_distance * math.sin(theta) + screen_dim / 2\n",
    "    x = self.scaled_distance * math.cos(theta) + screen_dim / 2\n",
    "    return (x, y)\n",
    "\n",
    "  def update_location(self, t):\n",
    "    theta = self.angular_position(t)\n",
    "    x, y = self.coordinates(theta)\n",
    "    scaled_radius = self.scaled_radius\n",
    "    self.canvas.create_rectangle(x, y, x, y, outline=\"grey\")\n",
    "    self.canvas.coords(self.oval_id, x - scaled_radius, y - scaled_radius,\n",
    "                       x + scaled_radius, y + scaled_radius)"
   ]
  },
  {
   "cell_type": "code",
   "execution_count": 5,
   "metadata": {},
   "outputs": [],
   "source": [
    "class Moon(Planet):\n",
    "  earth_mass = 5.973 * math.pow(10, 24)\n",
    "\n",
    "  def __init__(self, name, mass, distance, radius, color, canvas, earth):\n",
    "    super().__init__(name, mass, distance, radius, color, canvas)\n",
    "    self.distance = distance * 3.844e5\n",
    "    self.angular_velocity = -math.sqrt(self.gravitational_force() /\n",
    "                                      (self.mass * self.distance))\n",
    "    self.earth = earth\n",
    "    self.scaled_distance = 25  # since distance scaling was based on distance from sun\n",
    "    self.scaled_radius = 2  # since moon's scaled radius was getting negative\n",
    "\n",
    "  def gravitational_force(self):\n",
    "    f = self.G * (self.mass * self.earth_mass) / math.pow(self.distance, 2)\n",
    "    return f\n",
    "\n",
    "  def coordinates(self, t):\n",
    "    theta = self.angular_position(t)\n",
    "    earth_x, earth_y = self.earth.coordinates(self.earth.angular_position(t))\n",
    "    dist = self.scaled_distance\n",
    "    x = earth_x + dist * math.cos(theta)\n",
    "    y = earth_y + dist * math.sin(theta)\n",
    "    return (x, y)\n",
    "\n",
    "  def update_location(self, t):\n",
    "    x, y = self.coordinates(t)\n",
    "    scaled_radius = self.scaled_radius\n",
    "    self.canvas.create_rectangle(x, y, x, y, outline=\"red\")\n",
    "    self.canvas.coords(self.oval_id, x - scaled_radius, y - scaled_radius,\n",
    "                       x + scaled_radius, y + scaled_radius)"
   ]
  },
  {
   "cell_type": "code",
   "execution_count": 6,
   "metadata": {},
   "outputs": [],
   "source": [
    "#name,mass,distance,radius, color, canvas\n",
    "mercury = Planet(\"Mercury\", 0.06, 0.38, 0.38, 'red2', canvas)\n",
    "venus = Planet(\"Venus\", 0.82, 0.72, 0.95, 'CadetBlue1', canvas)\n",
    "earth = Planet(\"Earth\", 1, 1, 1, 'RoyalBlue1', canvas)\n",
    "mars = Planet(\"Mars\", 0.11, 1.52, 0.53, 'tomato2', canvas)\n",
    "planets = [mercury, venus, earth, mars]\n",
    "moon = Moon(\"Moon\", 0.01, 1, 0.03, 'white', canvas, earth)"
   ]
  },
  {
   "cell_type": "code",
   "execution_count": 7,
   "metadata": {},
   "outputs": [],
   "source": [
    "time = 0\n",
    "time_step = 100000\n",
    "\n",
    "def update_bodies_position():\n",
    "  global time, time_step\n",
    "  for planet in planets:\n",
    "    planet.update_location(time)\n",
    "  moon.update_location(time)\n",
    "  time = time + time_step\n",
    "  root.after(100, update_bodies_position)\n",
    "\n",
    "update_bodies_position()\n",
    "\n",
    "root.mainloop()"
   ]
  }
 ],
 "metadata": {
  "kernelspec": {
   "display_name": "Python 3",
   "language": "python",
   "name": "python3"
  },
  "language_info": {
   "codemirror_mode": {
    "name": "ipython",
    "version": 3
   },
   "file_extension": ".py",
   "mimetype": "text/x-python",
   "name": "python",
   "nbconvert_exporter": "python",
   "pygments_lexer": "ipython3",
   "version": "3.8.3"
  }
 },
 "nbformat": 4,
 "nbformat_minor": 4
}
