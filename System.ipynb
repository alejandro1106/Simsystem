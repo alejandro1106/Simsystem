{
 "cells": [
  {
   "cell_type": "code",
   "execution_count": 1,
   "metadata": {},
   "outputs": [],
   "source": [
    "%matplotlib widget\n",
    "from IPython.display import HTML, Javascript, display\n",
    "import ipywidgets as widgets\n",
    "import numpy as np\n",
    "import matplotlib\n",
    "import matplotlib.pyplot as plt\n",
    "from matplotlib import animation, rc\n",
    "from astropy.time import Time\n",
    "from astroquery.jplhorizons import Horizons\n",
    "from ipywidgets import *"
   ]
  },
  {
   "cell_type": "code",
   "execution_count": 2,
   "metadata": {},
   "outputs": [],
   "source": [
    "sim_start_date = \"2018-01-01\"     # simulating a solar system starting from this date\n",
    "sim_duration = 365*2               # (int) simulation duration in days\n",
    "m_earth = 5.9722e24 / 1.98847e30  # Mass of Earth relative to mass of the sun\n",
    "m_moon = 7.3477e22 / 1.98847e30"
   ]
  },
  {
   "cell_type": "code",
   "execution_count": 3,
   "metadata": {},
   "outputs": [],
   "source": [
    "class Object:                   # define the objects: the Sun, Earth, Mercury, etc\n",
    "    def __init__(self, name, rad, color, r, v):\n",
    "        self.name = name\n",
    "        self.r    = np.array(r, dtype=np.float)\n",
    "        self.v    = np.array(v, dtype=np.float)\n",
    "        self.xs = []\n",
    "        self.ys = []\n",
    "        self.plot = ax.scatter(r[0], r[1], color=color, s=rad**2, edgecolors=None, zorder=10)\n",
    "        self.line, = ax.plot([], [], color=color, linewidth=1.4)"
   ]
  },
  {
   "cell_type": "code",
   "execution_count": 4,
   "metadata": {},
   "outputs": [],
   "source": [
    "class SolarSystem:\n",
    "    def __init__(self, thesun):\n",
    "        self.thesun = thesun\n",
    "        self.planets = []\n",
    "        self.time = None\n",
    "        self.timestamp = ax.text(.03, .94, 'Date: ', color='w', transform=ax.transAxes, fontsize='x-large')\n",
    "    def add_planet(self, planet):\n",
    "        self.planets.append(planet)\n",
    "    def evolve(self):           # evolve the trajectories\n",
    "        dt = 1.0\n",
    "        self.time += dt\n",
    "        plots = []\n",
    "        lines = []\n",
    "        for p in self.planets:\n",
    "            p.r += p.v * dt\n",
    "            acc = -2.959e-4 * p.r / np.sum(p.r**2)**(3./2)  # in units of AU/day^2\n",
    "            p.v += acc * dt\n",
    "            p.xs.append(p.r[0])\n",
    "            p.ys.append(p.r[1])\n",
    "            p.plot.set_offsets(p.r[:2])\n",
    "            p.line.set_xdata(p.xs)\n",
    "            p.line.set_ydata(p.ys)\n",
    "            plots.append(p.plot)\n",
    "            lines.append(p.line)\n",
    "        self.timestamp.set_text('Date: ' + Time(self.time, format='jd', out_subfmt='date').iso)\n",
    "        return plots + lines + [self.timestamp]"
   ]
  },
  {
   "cell_type": "code",
   "execution_count": 5,
   "metadata": {},
   "outputs": [
    {
     "data": {
      "application/vnd.jupyter.widget-view+json": {
       "model_id": "18512d66eaf04fa597a36fab5c412704",
       "version_major": 2,
       "version_minor": 0
      },
      "text/plain": [
       "Canvas(toolbar=Toolbar(toolitems=[('Home', 'Reset original view', 'home', 'home'), ('Back', 'Back to previous …"
      ]
     },
     "metadata": {},
     "output_type": "display_data"
    }
   ],
   "source": [
    "def animate(i):\n",
    "    return ss.evolve()\n",
    "\n",
    "plt.style.use('dark_background')\n",
    "fig = plt.figure(figsize=[6, 6])\n",
    "ax = plt.axes([0., 0., 1., 1.], xlim=(-1.8, 1.8), ylim=(-1.8, 1.8))\n",
    "ax.set_aspect('equal')\n",
    "ax.axis('off')\n",
    "ss = SolarSystem(Object(\"Sun\", 28, 'yellow', [0, 0, 0], [0, 0, 0]))\n",
    "ss.time = Time(sim_start_date).jd\n",
    "matplotlib.use('Agg')\n",
    "\n",
    "# create control\n",
    "numplane = widgets.Dropdown(options=[0,1,2,3,4], value=4, description='Planetas', disabled=False)"
   ]
  },
  {
   "cell_type": "code",
   "execution_count": 6,
   "metadata": {
    "scrolled": false
   },
   "outputs": [],
   "source": [
    "npln = numplane.value \n",
    "s, c, t = [[] for n in range(3)]\n",
    "names = ['Mercurio', 'Venus', 'Tierra', 'Marte']\n",
    "colors = ['gray', 'orange', 'blue', 'chocolate']\n",
    "sizes = [0.38, 0.95, 1., 0.53]\n",
    "\n",
    "for n in range(npln):\n",
    "    t.append(widgets.Text(value=names[n], description='Nombre '+str(n+1), continuous_update=False))\n",
    "    c.append(widgets.ColorPicker(value=colors[n], description='Color '+str(n+1)))\n",
    "    s.append(widgets.FloatSlider(value=sizes[n], min=0, max=2, step=0.01, disabled=False, description='Tamaño '+str(n+1)))\n",
    "    \n",
    "con = [numplane]+s+c+t\n",
    "controls = widgets.VBox(con)"
   ]
  },
  {
   "cell_type": "code",
   "execution_count": 9,
   "metadata": {
    "scrolled": false
   },
   "outputs": [
    {
     "data": {
      "application/vnd.jupyter.widget-view+json": {
       "model_id": "bc6e2ac2a336414ab8097854f7aece47",
       "version_major": 2,
       "version_minor": 0
      },
      "text/plain": [
       "HBox(children=(VBox(children=(Dropdown(description='Planetas', index=4, options=(0, 1, 2, 3, 4), value=4), Flo…"
      ]
     },
     "metadata": {},
     "output_type": "display_data"
    },
    {
     "data": {
      "application/vnd.jupyter.widget-view+json": {
       "model_id": "71eb199fad58443ea59e6264c2a189f6",
       "version_major": 2,
       "version_minor": 0
      },
      "text/plain": [
       "Button(description='Crear', style=ButtonStyle())"
      ]
     },
     "metadata": {},
     "output_type": "display_data"
    }
   ],
   "source": [
    "output = widgets.Output()\n",
    "\n",
    "@output.capture(clear_output=False,wait=True) # based on https://github.com/jupyter-widgets/ipywidgets/issues/1846 and https://ipywidgets.readthedocs.io/en/latest/examples/Output%20Widget.html\n",
    "\n",
    "def runsim(b):\n",
    "    \n",
    "    texty = [.47, .73, 1, 1.5]\n",
    "    for i, nasaid in enumerate(range(1, numplane.value+1)):  # The 1st, 2nd, 3rd, 4th planet in solar system\n",
    "        obj = Horizons(id=nasaid, location=\"@sun\", epochs=ss.time, id_type='id').vectors()\n",
    "        ss.add_planet(Object(nasaid, 20 * s[i].value, c[i].value, \n",
    "                             [np.double(obj[xi]) for xi in ['x', 'y', 'z']],\n",
    "                             [np.double(obj[vxi]) for vxi in ['vx', 'vy', 'vz']]))\n",
    "        ax.text(0, - (texty[i] + 0.1), t[i].value, color=c[i].value, zorder=1000, ha='center', fontsize='large')\n",
    "    \n",
    "    ani = animation.FuncAnimation(fig, animate, repeat=False, frames=sim_duration, blit=True, interval=20,)\n",
    "    HTML(ani.to_html5_video())\n",
    "    rc('animation', html='html5')\n",
    "    display(ani)\n",
    "\n",
    "run_button = widgets.Button(\n",
    "      description = 'Crear'\n",
    ")\n",
    "run_button.on_click(runsim)\n",
    "\n",
    "display(widgets.HBox([controls, output]))\n",
    "display(run_button)"
   ]
  },
  {
   "cell_type": "code",
   "execution_count": null,
   "metadata": {},
   "outputs": [],
   "source": []
  }
 ],
 "metadata": {
  "kernelspec": {
   "display_name": "Python 3",
   "language": "python",
   "name": "python3"
  },
  "language_info": {
   "codemirror_mode": {
    "name": "ipython",
    "version": 3
   },
   "file_extension": ".py",
   "mimetype": "text/x-python",
   "name": "python",
   "nbconvert_exporter": "python",
   "pygments_lexer": "ipython3",
   "version": "3.8.3"
  }
 },
 "nbformat": 4,
 "nbformat_minor": 4
}
