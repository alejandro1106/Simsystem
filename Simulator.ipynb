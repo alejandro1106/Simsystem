{
 "cells": [
  {
   "cell_type": "markdown",
   "metadata": {
    "extensions": {
     "jupyter_dashboards": {
      "version": 1,
      "views": {
       "default_view": {
        "col": 0,
        "height": 2,
        "row": 0,
        "width": 12
       }
      }
     }
    }
   },
   "source": [
    "<center> <h1>Simulador de sistemas solares </h1> </center> "
   ]
  },
  {
   "cell_type": "code",
   "execution_count": 1,
   "metadata": {},
   "outputs": [],
   "source": [
    "%%capture\n",
    "# Download latest FFmpeg static build.  \n",
    "exist = !which ffmpeg\n",
    "if not exist:\n",
    "  !curl https://johnvansickle.com/ffmpeg/releases/ffmpeg-release-amd64-static.tar.xz -o ffmpeg.tar.xz \\\n",
    "     && tar -xf ffmpeg.tar.xz && rm ffmpeg.tar.xz\n",
    "  ffmdir = !find . -iname ffmpeg-*-static\n",
    "  path = %env PATH\n",
    "  path = path + ':' + ffmdir[0]\n",
    "  %env PATH $path\n",
    "\n",
    "!which ffmpeg"
   ]
  },
  {
   "cell_type": "code",
   "execution_count": 11,
   "metadata": {
    "extensions": {
     "jupyter_dashboards": {
      "version": 1,
      "views": {
       "default_view": {
        "hidden": true
       }
      }
     }
    }
   },
   "outputs": [],
   "source": [
    "# importa librerías necesarias para la simulación\n",
    "from IPython.display import HTML, Javascript, display\n",
    "import ipywidgets as widgets\n",
    "import numpy as np\n",
    "import matplotlib\n",
    "matplotlib.use('Agg')\n",
    "import matplotlib.pyplot as plt\n",
    "from matplotlib import animation, rc\n",
    "from astropy.time import Time\n",
    "from astroquery.jplhorizons import Horizons\n",
    "from ipywidgets import *"
   ]
  },
  {
   "cell_type": "code",
   "execution_count": 12,
   "metadata": {
    "extensions": {
     "jupyter_dashboards": {
      "version": 1,
      "views": {
       "default_view": {
        "hidden": true
       }
      }
     }
    }
   },
   "outputs": [],
   "source": [
    "sim_start_date = \"2019-01-01\" # fecha inicial de la simulación (año-mes-día)\n",
    "sim_end_date = \"2020-12-31\" # fecha final de la simulación (año-mes-día)\n",
    "diff = Time(sim_end_date)-Time(sim_start_date)\n",
    "sim_duration = int(diff.value) # duración de la simulación en días"
   ]
  },
  {
   "cell_type": "code",
   "execution_count": 13,
   "metadata": {
    "extensions": {
     "jupyter_dashboards": {
      "version": 1,
      "views": {
       "default_view": {
        "hidden": true
       }
      }
     }
    }
   },
   "outputs": [],
   "source": [
    "# Clase de los objectos a incluir en la simulación (sol y planetas)\n",
    "class Object:                  \n",
    "    def __init__(self, name, rad, color, r, v):\n",
    "        self.name = name # nombre\n",
    "        self.r    = np.array(r, dtype=np.float) # posición\n",
    "        self.v    = np.array(v, dtype=np.float) # velocidad\n",
    "        self.xs = [] # posición eje x\n",
    "        self.ys = [] # posición eje y\n",
    "        self.plot = ax.scatter(r[0], r[1], color=color, s=rad**2, edgecolors=None, zorder=10) # gráfico del objeto\n",
    "        self.line, = ax.plot([], [], color=color, linewidth=1.4) # gráfico de la órbita"
   ]
  },
  {
   "cell_type": "code",
   "execution_count": 14,
   "metadata": {
    "extensions": {
     "jupyter_dashboards": {
      "version": 1,
      "views": {
       "default_view": {
        "hidden": true
       }
      }
     }
    }
   },
   "outputs": [],
   "source": [
    "# Clase del sistema solar a simular\n",
    "class SolarSystem:\n",
    "    def __init__(self, thesun):\n",
    "        self.thesun = thesun # sol\n",
    "        self.planets = [] # planetas\n",
    "        self.time = None # tiempo\n",
    "        # texto de la fecha\n",
    "        self.timestamp = ax.text(.03, .94, 'Fecha: ', color='w', transform=ax.transAxes, fontsize='x-large')\n",
    "    def add_planet(self, planet): # método para añadir planetas a la simulación\n",
    "        self.planets.append(planet)\n",
    "    def evolve(self): # método para calcular la trayectoria de un planeta\n",
    "        # texto de la fecha    \n",
    "        time_str = Time(self.time, format='jd').strftime('%d-%m-%Y')\n",
    "        self.timestamp.set_text('Fecha: ' + time_str)\n",
    "        dates = [self.timestamp]\n",
    "        dt = 1.0 # intervalo de tiempo mínimo (un día)\n",
    "        self.time += 1 # fecha\n",
    "        plots = []\n",
    "        lines = []\n",
    "        for p in self.planets: # cada planeta pasa por la siguiente rutina\n",
    "            p.r += p.v * dt # posición \n",
    "            acc = -2.959e-4 * p.r / np.sum(p.r**2)**(3./2) # aceleración (en UA/día^2)\n",
    "            p.v += acc * dt # velocidad \n",
    "            # se guardan las componentes x e y de la posición en listas\n",
    "            p.xs.append(p.r[0]) \n",
    "            p.ys.append(p.r[1]) \n",
    "            p.plot.set_offsets(p.r[:2]) # animación del movimiento \n",
    "            # se grafica la órbita\n",
    "            p.line.set_xdata(p.xs)\n",
    "            p.line.set_ydata(p.ys)\n",
    "            # se guardan los gráficos en listas\n",
    "            plots.append(p.plot) \n",
    "            lines.append(p.line) \n",
    "        return plots + lines + dates # genera gráficos de la simulación "
   ]
  },
  {
   "cell_type": "code",
   "execution_count": 15,
   "metadata": {
    "extensions": {
     "jupyter_dashboards": {
      "version": 1,
      "views": {
       "default_view": {
        "col": 0,
        "height": 2,
        "row": 10,
        "width": 12
       }
      }
     }
    }
   },
   "outputs": [],
   "source": [
    "# Función para simular la evolución del sistema solar\n",
    "def animate(i):\n",
    "    return ss.evolve()"
   ]
  },
  {
   "cell_type": "code",
   "execution_count": 16,
   "metadata": {
    "extensions": {
     "jupyter_dashboards": {
      "version": 1,
      "views": {
       "default_view": {
        "col": 0,
        "height": 2,
        "row": 10,
        "width": 12
       }
      }
     }
    }
   },
   "outputs": [],
   "source": [
    "# menú para seleccionar la cantidad de planetas a incluir \n",
    "numplane = widgets.Dropdown(options=[0,1,2,3,4], value=4, description='Planetas', disabled=False)"
   ]
  },
  {
   "cell_type": "code",
   "execution_count": 17,
   "metadata": {
    "extensions": {
     "jupyter_dashboards": {
      "version": 1,
      "views": {
       "default_view": {
        "hidden": true
       }
      }
     }
    },
    "scrolled": false
   },
   "outputs": [],
   "source": [
    "npln = numplane.value # número de planetas definido por el usuario\n",
    "s, c, t = [[] for n in range(3)] # listas para los valores de las propiedades de los planetas\n",
    "# valores por defecto de las propiedades \n",
    "names = ['Mercurio', 'Venus', 'Tierra', 'Marte'] # nombres\n",
    "colors = ['gray', 'orange', 'blue', 'chocolate'] # colores \n",
    "sizes = [0.38, 0.95, 1., 0.53] # tamaños en relación con el diámetro de la Tierra\n",
    "\n",
    "# define los controles de las propiedades con los valores por defecto\n",
    "for n in range(npln):\n",
    "    t.append(widgets.Text(value=names[n], description='Nombre '+str(n+1), continuous_update=False))\n",
    "    c.append(widgets.ColorPicker(value=colors[n], description='Color '+str(n+1)))\n",
    "    s.append(widgets.FloatSlider(value=sizes[n], min=0, max=2, step=0.01, disabled=False, \\\n",
    "                                 description='Tamaño '+str(n+1)))\n",
    "\n",
    "# agrupa los controles de las propiedades en un solo objeto\n",
    "con = [numplane]+s+c+t\n",
    "controls = widgets.VBox(con) "
   ]
  },
  {
   "cell_type": "code",
   "execution_count": 18,
   "metadata": {
    "extensions": {
     "jupyter_dashboards": {
      "version": 1,
      "views": {
       "default_view": {
        "col": 0,
        "height": 2,
        "row": 14,
        "width": 12
       }
      }
     }
    }
   },
   "outputs": [],
   "source": [
    "# based on https://github.com/jupyter-widgets/ipywidgets/issues/1846 and \n",
    "# https://ipywidgets.readthedocs.io/en/latest/examples/Output%20Widget.html"
   ]
  },
  {
   "cell_type": "code",
   "execution_count": 19,
   "metadata": {
    "extensions": {
     "jupyter_dashboards": {
      "version": 1,
      "views": {
       "default_view": {
        "col": 0,
        "height": 2,
        "row": 14,
        "width": 12
       }
      }
     }
    }
   },
   "outputs": [],
   "source": [
    "output = widgets.Output() # contiene valores definidos para las propiedades\n",
    "\n",
    "@output.capture(clear_output=True) # aplica los valores definidos a la función siguiente\n",
    "\n",
    "# Función para crear la simulación\n",
    "def runsim(b):    \n",
    "    global ax, ss\n",
    "    plt.style.use('dark_background') # fondo negro\n",
    "    fig = plt.figure(figsize=[6, 6]) # tamaño del cuadro de la animación\n",
    "    ax = plt.axes([0., 0., 1., 1.], xlim=(-1.8, 1.8), ylim=(-1.8, 1.8)) # definición de los ejes\n",
    "    ax.set_aspect('equal') # ambos ejes a la misma escala\n",
    "    ax.axis('off') # ejes invisibles\n",
    "    # crea un objeto SolarSystem que contiene la simulación\n",
    "    ss = SolarSystem(Object(\"Sun\", 28, 'yellow', [0, 0, 0], [0, 0, 0])) \n",
    "    ss.time = Time(sim_start_date).jd-2 # indica la fecha inicial    \n",
    "    texty = [.5, .75, 1.05, 1.5] # textos con los nombres\n",
    "    for i, nasaid in enumerate(range(1, numplane.value+1)): # bucle para clear planetas \n",
    "        # consulta posiciones y velocidades iniciales\n",
    "        obj = Horizons(id=nasaid, location=\"@sun\", epochs=ss.time, id_type='id').vectors() \n",
    "        # agrega cada planeta a la simulación\n",
    "        ss.add_planet(Object(nasaid, 20 * s[i].value, c[i].value, \n",
    "                             [np.double(obj[xi]) for xi in ['x', 'y', 'z']],\n",
    "                             [np.double(obj[vxi]) for vxi in ['vx', 'vy', 'vz']]))\n",
    "        ax.text(0, - (texty[i] + 0.1), t[i].value, color=c[i].value, zorder=1000, ha='center', fontsize='large')\n",
    "    # crea animación a partir de imágenes generadas para cada día a simular\n",
    "    ani = animation.FuncAnimation(fig, animate, repeat=True, frames=sim_duration+1, blit=True, interval=40)\n",
    "    HTML(ani.to_html5_video()) # crea video de la animación\n",
    "    rc('animation', html='html5')\n",
    "    display(ani) # despliega video"
   ]
  },
  {
   "cell_type": "code",
   "execution_count": 20,
   "metadata": {
    "extensions": {
     "jupyter_dashboards": {
      "version": 1,
      "views": {
       "default_view": {
        "col": 0,
        "height": 2,
        "row": 14,
        "width": 12
       }
      }
     }
    }
   },
   "outputs": [
    {
     "data": {
      "application/vnd.jupyter.widget-view+json": {
       "model_id": "6d133a5af1684d33ba5e57d6ff35ab88",
       "version_major": 2,
       "version_minor": 0
      },
      "text/plain": [
       "HBox(children=(VBox(children=(Dropdown(description='Planetas', index=4, options=(0, 1, 2, 3, 4), value=4), Flo…"
      ]
     },
     "metadata": {},
     "output_type": "display_data"
    },
    {
     "data": {
      "application/vnd.jupyter.widget-view+json": {
       "model_id": "cdb856d0c72645049203f4f21365613d",
       "version_major": 2,
       "version_minor": 0
      },
      "text/plain": [
       "Button(description='Crear', style=ButtonStyle())"
      ]
     },
     "metadata": {},
     "output_type": "display_data"
    }
   ],
   "source": [
    "# botón para iniciar la ejecución de la simulación\n",
    "run_button = widgets.Button(description = 'Crear')\n",
    "run_button.on_click(runsim)\n",
    "\n",
    "# despliega controles\n",
    "display(widgets.HBox([controls, output]))\n",
    "display(run_button)"
   ]
  }
 ],
 "metadata": {
  "extensions": {
   "jupyter_dashboards": {
    "activeView": "default_view",
    "version": 1,
    "views": {
     "default_view": {
      "cellMargin": 10,
      "defaultCellHeight": 40,
      "maxColumns": 12,
      "name": "active_view",
      "type": "grid"
     }
    }
   }
  },
  "kernelspec": {
   "display_name": "Python 3",
   "language": "python",
   "name": "python3"
  },
  "language_info": {
   "codemirror_mode": {
    "name": "ipython",
    "version": 3
   },
   "file_extension": ".py",
   "mimetype": "text/x-python",
   "name": "python",
   "nbconvert_exporter": "python",
   "pygments_lexer": "ipython3",
   "version": "3.8.3"
  }
 },
 "nbformat": 4,
 "nbformat_minor": 4
}
